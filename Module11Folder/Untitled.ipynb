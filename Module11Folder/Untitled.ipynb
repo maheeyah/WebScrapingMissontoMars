{
 "cells": [
  {
   "cell_type": "code",
   "execution_count": 5,
   "id": "f3e309f7",
   "metadata": {},
   "outputs": [],
   "source": [
    "from pymongo import MongoClient\n",
    "mongo = MongoClient(port=27017)"
   ]
  },
  {
   "cell_type": "code",
   "execution_count": 4,
   "id": "b7752d2e",
   "metadata": {},
   "outputs": [
    {
     "name": "stdout",
     "output_type": "stream",
     "text": [
      "Collecting pymongo\n",
      "  Downloading pymongo-4.3.3-cp39-cp39-win_amd64.whl (382 kB)\n",
      "Collecting dnspython<3.0.0,>=1.16.0\n",
      "  Using cached dnspython-2.3.0-py3-none-any.whl (283 kB)\n",
      "Installing collected packages: dnspython, pymongo\n",
      "Successfully installed dnspython-2.3.0 pymongo-4.3.3\n"
     ]
    }
   ],
   "source": [
    "import sys\n",
    "!{sys.executable} -m pip install pymongo"
   ]
  },
  {
   "cell_type": "code",
   "execution_count": 6,
   "id": "c0cc01ac",
   "metadata": {},
   "outputs": [
    {
     "name": "stdout",
     "output_type": "stream",
     "text": [
      "['admin', 'config', 'local']\n"
     ]
    }
   ],
   "source": [
    "print(mongo.list_database_names())"
   ]
  },
  {
   "cell_type": "code",
   "execution_count": 7,
   "id": "dec64e50",
   "metadata": {},
   "outputs": [],
   "source": [
    "my_first_db = mongo['my_db']"
   ]
  },
  {
   "cell_type": "code",
   "execution_count": 8,
   "id": "81aa7d9c",
   "metadata": {},
   "outputs": [
    {
     "name": "stdout",
     "output_type": "stream",
     "text": [
      "['admin', 'config', 'local']\n"
     ]
    }
   ],
   "source": [
    "print(mongo.list_database_names())"
   ]
  },
  {
   "cell_type": "code",
   "execution_count": 9,
   "id": "9c1e3aee",
   "metadata": {},
   "outputs": [
    {
     "data": {
      "text/plain": [
       "[]"
      ]
     },
     "execution_count": 9,
     "metadata": {},
     "output_type": "execute_result"
    }
   ],
   "source": [
    "my_first_collection = my_first_db['my_collection']\n",
    "my_first_db.list_collection_names()"
   ]
  },
  {
   "cell_type": "code",
   "execution_count": 10,
   "id": "d6e724fc",
   "metadata": {},
   "outputs": [
    {
     "data": {
      "text/plain": [
       "<pymongo.results.InsertOneResult at 0x26821a4ab20>"
      ]
     },
     "execution_count": 10,
     "metadata": {},
     "output_type": "execute_result"
    }
   ],
   "source": [
    "my_first_collection.insert_one({'name': 'Mickey'})"
   ]
  },
  {
   "cell_type": "code",
   "execution_count": 11,
   "id": "17dd232d",
   "metadata": {},
   "outputs": [
    {
     "name": "stdout",
     "output_type": "stream",
     "text": [
      "['admin', 'config', 'local', 'my_db']\n",
      "['my_collection']\n"
     ]
    }
   ],
   "source": [
    "print(mongo.list_database_names())\n",
    "print(my_first_db.list_collection_names())"
   ]
  },
  {
   "cell_type": "code",
   "execution_count": 33,
   "id": "40abc97c",
   "metadata": {},
   "outputs": [
    {
     "data": {
      "text/plain": [
       "<pymongo.results.InsertOneResult at 0x26821a1ba60>"
      ]
     },
     "execution_count": 33,
     "metadata": {},
     "output_type": "execute_result"
    }
   ],
   "source": [
    "my_first_collection.insert_one({'name': 'Minnie','age':90})"
   ]
  },
  {
   "cell_type": "code",
   "execution_count": 34,
   "id": "e961e1b6",
   "metadata": {},
   "outputs": [
    {
     "name": "stdout",
     "output_type": "stream",
     "text": [
      "{'_id': ObjectId('63e9396542e9f4f9a150ea0b'), 'name': 'Minnie Mouse', 'age': '90'}\n",
      "{'_id': ObjectId('63e939fa42e9f4f9a150ea0c'), 'name': 'Donald', 'species': 'duck'}\n",
      "{'_id': ObjectId('63e939fa42e9f4f9a150ea0d'), 'name': 'Daisy', 'species': 'duck'}\n",
      "{'_id': ObjectId('63e944d742e9f4f9a150ea0e'), 'name': 'Minnie', 'age': 90}\n"
     ]
    }
   ],
   "source": [
    "results = my_first_collection.find()\n",
    "for result in results:\n",
    "    print(result)"
   ]
  },
  {
   "cell_type": "code",
   "execution_count": 35,
   "id": "79accafc",
   "metadata": {},
   "outputs": [
    {
     "name": "stdout",
     "output_type": "stream",
     "text": [
      "{'_id': ObjectId('63e9396542e9f4f9a150ea0b'), 'name': 'Minnie Mouse', 'age': '90'}\n",
      "{'_id': ObjectId('63e939fa42e9f4f9a150ea0c'), 'name': 'Donald', 'species': 'duck'}\n",
      "{'_id': ObjectId('63e939fa42e9f4f9a150ea0d'), 'name': 'Daisy', 'species': 'duck'}\n",
      "{'_id': ObjectId('63e944d742e9f4f9a150ea0e'), 'name': 'Minnie', 'age': 90}\n",
      "{'_id': 3, 'name': 'Goofy', 'age': 87, 'species': 'dog'}\n"
     ]
    }
   ],
   "source": [
    "goofy = {'_id':3, 'name': 'Goofy', 'age': 87, 'species': 'dog'}\n",
    "my_first_collection.insert_one(goofy)\n",
    "\n",
    "results = my_first_collection.find()\n",
    "for result in results:\n",
    "    print(result)"
   ]
  },
  {
   "cell_type": "code",
   "execution_count": 36,
   "id": "ae4b8ae5",
   "metadata": {},
   "outputs": [
    {
     "data": {
      "text/plain": [
       "<pymongo.results.InsertManyResult at 0x26823019eb0>"
      ]
     },
     "execution_count": 36,
     "metadata": {},
     "output_type": "execute_result"
    }
   ],
   "source": [
    "animals = [{'name': 'Donald', 'species': 'duck'}, {'name': 'Daisy', 'species': 'duck'}]\n",
    "my_first_collection.insert_many(animals)"
   ]
  },
  {
   "cell_type": "code",
   "execution_count": 37,
   "id": "d8bef907",
   "metadata": {},
   "outputs": [
    {
     "name": "stdout",
     "output_type": "stream",
     "text": [
      "{'_id': ObjectId('63e9396542e9f4f9a150ea0b'), 'name': 'Minnie Mouse', 'age': '90'}\n",
      "{'_id': ObjectId('63e939fa42e9f4f9a150ea0c'), 'name': 'Donald', 'species': 'duck'}\n",
      "{'_id': ObjectId('63e939fa42e9f4f9a150ea0d'), 'name': 'Daisy', 'species': 'duck'}\n",
      "{'_id': ObjectId('63e944d742e9f4f9a150ea0e'), 'name': 'Minnie', 'age': 90}\n",
      "{'_id': 3, 'name': 'Goofy', 'age': 87, 'species': 'dog'}\n",
      "{'_id': ObjectId('63e944dc42e9f4f9a150ea0f'), 'name': 'Donald', 'species': 'duck'}\n",
      "{'_id': ObjectId('63e944dc42e9f4f9a150ea10'), 'name': 'Daisy', 'species': 'duck'}\n"
     ]
    }
   ],
   "source": [
    "results = my_first_collection.find()\n",
    "for result in results:\n",
    "    print(result)"
   ]
  },
  {
   "cell_type": "code",
   "execution_count": 38,
   "id": "5899fbb4",
   "metadata": {},
   "outputs": [
    {
     "name": "stdout",
     "output_type": "stream",
     "text": [
      "{'_id': ObjectId('63e939fa42e9f4f9a150ea0c'), 'name': 'Donald', 'species': 'duck'}\n",
      "{'_id': ObjectId('63e944dc42e9f4f9a150ea0f'), 'name': 'Donald', 'species': 'duck'}\n"
     ]
    }
   ],
   "source": [
    "query = {'name': 'Donald'}\n",
    "results = my_first_collection.find(query)\n",
    "for result in results:\n",
    "    print(result)"
   ]
  },
  {
   "cell_type": "code",
   "execution_count": 39,
   "id": "2685a894",
   "metadata": {},
   "outputs": [
    {
     "name": "stdout",
     "output_type": "stream",
     "text": [
      "{'_id': ObjectId('63e939fa42e9f4f9a150ea0c'), 'name': 'Donald', 'species': 'duck'}\n",
      "{'_id': ObjectId('63e939fa42e9f4f9a150ea0d'), 'name': 'Daisy', 'species': 'duck'}\n",
      "{'_id': ObjectId('63e944dc42e9f4f9a150ea0f'), 'name': 'Donald', 'species': 'duck'}\n",
      "{'_id': ObjectId('63e944dc42e9f4f9a150ea10'), 'name': 'Daisy', 'species': 'duck'}\n"
     ]
    }
   ],
   "source": [
    "query = {'species': 'duck'}\n",
    "results = my_first_collection.find(query)\n",
    "for result in results:\n",
    "    print(result)"
   ]
  },
  {
   "cell_type": "code",
   "execution_count": 40,
   "id": "7812f92a",
   "metadata": {},
   "outputs": [
    {
     "data": {
      "text/plain": [
       "[{'_id': ObjectId('63e944d742e9f4f9a150ea0e'), 'name': 'Minnie', 'age': 90},\n",
       " {'_id': 3, 'name': 'Goofy', 'age': 87, 'species': 'dog'}]"
      ]
     },
     "execution_count": 40,
     "metadata": {},
     "output_type": "execute_result"
    }
   ],
   "source": [
    "query = {'age': {'$gt':85}}\n",
    "results = my_first_collection.find(query)\n",
    "[result for result in results]\n"
   ]
  },
  {
   "cell_type": "code",
   "execution_count": 41,
   "id": "ccfeffb1",
   "metadata": {},
   "outputs": [
    {
     "data": {
      "text/plain": [
       "[{'_id': 3, 'name': 'Goofy', 'age': 87, 'species': 'dog'}]"
      ]
     },
     "execution_count": 41,
     "metadata": {},
     "output_type": "execute_result"
    }
   ],
   "source": [
    "query = {'age': {'$lt':90}}\n",
    "results = my_first_collection.find(query)\n",
    "[result for result in results]\n"
   ]
  },
  {
   "cell_type": "code",
   "execution_count": 42,
   "id": "ea54c944",
   "metadata": {},
   "outputs": [
    {
     "data": {
      "text/plain": [
       "[{'_id': ObjectId('63e9396542e9f4f9a150ea0b'),\n",
       "  'name': 'Minnie Mouse',\n",
       "  'age': '90'},\n",
       " {'_id': ObjectId('63e939fa42e9f4f9a150ea0c'),\n",
       "  'name': 'Donald',\n",
       "  'species': 'duck'},\n",
       " {'_id': ObjectId('63e939fa42e9f4f9a150ea0d'),\n",
       "  'name': 'Daisy',\n",
       "  'species': 'duck'},\n",
       " {'_id': ObjectId('63e944d742e9f4f9a150ea0e'),\n",
       "  'name': 'Minnie Mouse',\n",
       "  'age': 90},\n",
       " {'_id': 3, 'name': 'Goofy', 'age': 87, 'species': 'dog'},\n",
       " {'_id': ObjectId('63e944dc42e9f4f9a150ea0f'),\n",
       "  'name': 'Donald',\n",
       "  'species': 'duck'},\n",
       " {'_id': ObjectId('63e944dc42e9f4f9a150ea10'),\n",
       "  'name': 'Daisy',\n",
       "  'species': 'duck'}]"
      ]
     },
     "execution_count": 42,
     "metadata": {},
     "output_type": "execute_result"
    }
   ],
   "source": [
    "query = {'name': 'Mickey', 'name':'Minnie'}\n",
    "update = {'$set': {'name': 'Mickey Mouse', 'name':'Minnie Mouse'}}\n",
    "my_first_collection.update_one(query, update)\n",
    "[r for r in my_first_collection.find()]"
   ]
  },
  {
   "cell_type": "code",
   "execution_count": 43,
   "id": "434ee703",
   "metadata": {},
   "outputs": [
    {
     "data": {
      "text/plain": [
       "[{'_id': ObjectId('63e9396542e9f4f9a150ea0b'),\n",
       "  'name': 'Minnie Mouse',\n",
       "  'age': '90'},\n",
       " {'_id': ObjectId('63e939fa42e9f4f9a150ea0c'),\n",
       "  'name': 'Donald',\n",
       "  'species': 'duck'},\n",
       " {'_id': ObjectId('63e939fa42e9f4f9a150ea0d'),\n",
       "  'name': 'Daisy',\n",
       "  'species': 'duck'},\n",
       " {'_id': ObjectId('63e944d742e9f4f9a150ea0e'),\n",
       "  'name': 'Minnie Mouse',\n",
       "  'age': 90},\n",
       " {'_id': 3, 'name': 'Goofy', 'age': 87, 'species': 'dog'},\n",
       " {'_id': ObjectId('63e944dc42e9f4f9a150ea0f'),\n",
       "  'name': 'Donald',\n",
       "  'species': 'duck'},\n",
       " {'_id': ObjectId('63e944dc42e9f4f9a150ea10'),\n",
       "  'name': 'Daisy',\n",
       "  'species': 'duck'}]"
      ]
     },
     "execution_count": 43,
     "metadata": {},
     "output_type": "execute_result"
    }
   ],
   "source": [
    "query = {'name': 'Mickey Mouse'}\n",
    "my_first_collection.delete_one(query)\n",
    "[r for r in my_first_collection.find()]"
   ]
  },
  {
   "cell_type": "code",
   "execution_count": 44,
   "id": "b844f5ee",
   "metadata": {},
   "outputs": [
    {
     "data": {
      "text/plain": [
       "[{'_id': ObjectId('63e9396542e9f4f9a150ea0b'),\n",
       "  'name': 'Minnie Mouse',\n",
       "  'age': '90'},\n",
       " {'_id': ObjectId('63e939fa42e9f4f9a150ea0c'),\n",
       "  'name': 'Donald',\n",
       "  'species': 'duck'},\n",
       " {'_id': ObjectId('63e939fa42e9f4f9a150ea0d'),\n",
       "  'name': 'Daisy',\n",
       "  'species': 'duck'},\n",
       " {'_id': ObjectId('63e944d742e9f4f9a150ea0e'),\n",
       "  'name': 'Minnie Mouse',\n",
       "  'age': 90},\n",
       " {'_id': ObjectId('63e944dc42e9f4f9a150ea0f'),\n",
       "  'name': 'Donald',\n",
       "  'species': 'duck'},\n",
       " {'_id': ObjectId('63e944dc42e9f4f9a150ea10'),\n",
       "  'name': 'Daisy',\n",
       "  'species': 'duck'}]"
      ]
     },
     "execution_count": 44,
     "metadata": {},
     "output_type": "execute_result"
    }
   ],
   "source": [
    "query = {'_id': 3}\n",
    "my_first_collection.delete_one(query)\n",
    "[r for r in my_first_collection.find()]"
   ]
  },
  {
   "cell_type": "code",
   "execution_count": 45,
   "id": "58a40470",
   "metadata": {},
   "outputs": [
    {
     "data": {
      "text/plain": [
       "[{'_id': ObjectId('63e9396542e9f4f9a150ea0b'),\n",
       "  'name': 'Minnie Mouse',\n",
       "  'age': '90'},\n",
       " {'_id': ObjectId('63e939fa42e9f4f9a150ea0c'),\n",
       "  'name': 'Donald',\n",
       "  'species': 'duck'},\n",
       " {'_id': ObjectId('63e939fa42e9f4f9a150ea0d'),\n",
       "  'name': 'Daisy',\n",
       "  'species': 'duck'},\n",
       " {'_id': ObjectId('63e944dc42e9f4f9a150ea0f'),\n",
       "  'name': 'Donald',\n",
       "  'species': 'duck'},\n",
       " {'_id': ObjectId('63e944dc42e9f4f9a150ea10'),\n",
       "  'name': 'Daisy',\n",
       "  'species': 'duck'}]"
      ]
     },
     "execution_count": 45,
     "metadata": {},
     "output_type": "execute_result"
    }
   ],
   "source": [
    "query = {'age': {'$gt':88}}\n",
    "my_first_collection.delete_one(query)\n",
    "[r for r in my_first_collection.find()]"
   ]
  },
  {
   "cell_type": "code",
   "execution_count": 46,
   "id": "689f0fae",
   "metadata": {},
   "outputs": [
    {
     "data": {
      "text/plain": [
       "[{'_id': ObjectId('63e9396542e9f4f9a150ea0b'),\n",
       "  'name': 'Minnie Mouse',\n",
       "  'age': '90'}]"
      ]
     },
     "execution_count": 46,
     "metadata": {},
     "output_type": "execute_result"
    }
   ],
   "source": [
    "query = {'species': 'duck'}\n",
    "my_first_collection.delete_many(query)\n",
    "[r for r in my_first_collection.find()]"
   ]
  },
  {
   "cell_type": "code",
   "execution_count": 47,
   "id": "84df4ca9",
   "metadata": {},
   "outputs": [
    {
     "data": {
      "text/plain": [
       "{'nIndexesWas': 1, 'ns': 'my_db.my_collection', 'ok': 1.0}"
      ]
     },
     "execution_count": 47,
     "metadata": {},
     "output_type": "execute_result"
    }
   ],
   "source": [
    "my_first_db.drop_collection('my_collection')"
   ]
  },
  {
   "cell_type": "code",
   "execution_count": 48,
   "id": "bf43d0ec",
   "metadata": {},
   "outputs": [
    {
     "data": {
      "text/plain": [
       "[]"
      ]
     },
     "execution_count": 48,
     "metadata": {},
     "output_type": "execute_result"
    }
   ],
   "source": [
    "my_first_db.list_collection_names()"
   ]
  },
  {
   "cell_type": "code",
   "execution_count": 49,
   "id": "84c005dc",
   "metadata": {},
   "outputs": [],
   "source": [
    "mongo.drop_database('my_db')"
   ]
  },
  {
   "cell_type": "code",
   "execution_count": 50,
   "id": "954f5bb9",
   "metadata": {},
   "outputs": [
    {
     "data": {
      "text/plain": [
       "['admin', 'config', 'local']"
      ]
     },
     "execution_count": 50,
     "metadata": {},
     "output_type": "execute_result"
    }
   ],
   "source": [
    "mongo.list_database_names()"
   ]
  },
  {
   "cell_type": "code",
   "execution_count": null,
   "id": "28ae595f",
   "metadata": {},
   "outputs": [],
   "source": []
  }
 ],
 "metadata": {
  "kernelspec": {
   "display_name": "PythonData",
   "language": "python",
   "name": "pythondata"
  },
  "language_info": {
   "codemirror_mode": {
    "name": "ipython",
    "version": 3
   },
   "file_extension": ".py",
   "mimetype": "text/x-python",
   "name": "python",
   "nbconvert_exporter": "python",
   "pygments_lexer": "ipython3",
   "version": "3.9.12"
  }
 },
 "nbformat": 4,
 "nbformat_minor": 5
}
